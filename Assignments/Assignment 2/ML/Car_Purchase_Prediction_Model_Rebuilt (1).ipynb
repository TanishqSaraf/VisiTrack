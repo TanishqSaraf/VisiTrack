{
 "cells": [
  {
   "cell_type": "code",
   "execution_count": null,
   "id": "b97a3f1d",
   "metadata": {},
   "outputs": [],
   "source": [
    "# making a car purchase prediction model"
   ]
  },
  {
   "cell_type": "code",
   "execution_count": null,
   "id": "bdaf8181",
   "metadata": {},
   "outputs": [],
   "source": [
    "#importing important libraries\n",
    "import pandas as pd\n",
    "import numpy as np\n",
    "import matplotlib.pyplot as plt\n",
    "import seaborn as sns"
   ]
  },
  {
   "cell_type": "code",
   "execution_count": null,
   "id": "a1c2bfc1",
   "metadata": {},
   "outputs": [],
   "source": [
    "#importing the dataset\n",
    "car_df = pd.read_csv('Car_Purchasing_Data.csv', encoding='ISO-8859-1')"
   ]
  },
  {
   "cell_type": "code",
   "execution_count": null,
   "id": "2d5046f5",
   "metadata": {},
   "outputs": [],
   "source": [
    "car_df"
   ]
  },
  {
   "cell_type": "code",
   "execution_count": null,
   "id": "227e8676",
   "metadata": {},
   "outputs": [],
   "source": [
    "#visualizing the dataset\n",
    "sns.pairplot(car_df)"
   ]
  },
  {
   "cell_type": "code",
   "execution_count": null,
   "id": "ced9b122",
   "metadata": {},
   "outputs": [],
   "source": [
    "#creating and testing the dataset and data cleaning\n",
    "X = car_df.drop(['Customer Name', 'Customer e-mail', 'Country', 'Car Purchase Amount'], axis = 1)"
   ]
  },
  {
   "cell_type": "code",
   "execution_count": null,
   "id": "2d84758f",
   "metadata": {},
   "outputs": [],
   "source": [
    "X"
   ]
  },
  {
   "cell_type": "code",
   "execution_count": null,
   "id": "36977b46",
   "metadata": {},
   "outputs": [],
   "source": [
    "y = car_df['Car Purchase Amount']\n",
    "y.shape"
   ]
  },
  {
   "cell_type": "code",
   "execution_count": null,
   "id": "7dbd3fe8",
   "metadata": {},
   "outputs": [],
   "source": [
    "from sklearn.preprocessing import MinMaxScaler\n",
    "\n",
    "scaler = MinMaxScaler()\n",
    "X_scaled = scaler.fit_transform(X)\n"
   ]
  },
  {
   "cell_type": "code",
   "execution_count": null,
   "id": "5fdbb9e9",
   "metadata": {},
   "outputs": [],
   "source": [
    "scaler.data_max_"
   ]
  },
  {
   "cell_type": "code",
   "execution_count": null,
   "id": "cec93c9f",
   "metadata": {},
   "outputs": [],
   "source": [
    "scaler.data_min_"
   ]
  },
  {
   "cell_type": "code",
   "execution_count": null,
   "id": "6dd4daf0",
   "metadata": {},
   "outputs": [],
   "source": [
    "print(X_scaled[:,0])"
   ]
  },
  {
   "cell_type": "code",
   "execution_count": null,
   "id": "17464c2f",
   "metadata": {},
   "outputs": [],
   "source": [
    "y.shape"
   ]
  },
  {
   "cell_type": "code",
   "execution_count": null,
   "id": "cca1e038",
   "metadata": {},
   "outputs": [],
   "source": [
    "y = y.values.reshape(-1,1)"
   ]
  },
  {
   "cell_type": "code",
   "execution_count": null,
   "id": "e9bd27bb",
   "metadata": {},
   "outputs": [],
   "source": [
    "y.shape"
   ]
  },
  {
   "cell_type": "code",
   "execution_count": null,
   "id": "c1e61854",
   "metadata": {},
   "outputs": [],
   "source": [
    "y_scaled = scaler.fit_transform(y)\n"
   ]
  },
  {
   "cell_type": "code",
   "execution_count": null,
   "id": "4626e401",
   "metadata": {},
   "outputs": [],
   "source": [
    "y_scaled"
   ]
  },
  {
   "cell_type": "code",
   "execution_count": null,
   "id": "3e5c9469",
   "metadata": {},
   "outputs": [],
   "source": [
    "# training the model\n",
    "\n",
    "from sklearn.model_selection import train_test_split\n",
    "X_train, X_test, y_train, y_test = train_test_split(X_scaled, y_scaled, test_size = 0.15)"
   ]
  },
  {
   "cell_type": "code",
   "execution_count": null,
   "id": "8e2ef7a1",
   "metadata": {},
   "outputs": [],
   "source": [
    "X_train.shape"
   ]
  },
  {
   "cell_type": "code",
   "execution_count": null,
   "id": "6d9d3bec",
   "metadata": {},
   "outputs": [],
   "source": [
    "X_test.shape"
   ]
  },
  {
   "cell_type": "code",
   "execution_count": null,
   "id": "2cbef0e9",
   "metadata": {},
   "outputs": [],
   "source": [
    "y_train.shape"
   ]
  },
  {
   "cell_type": "code",
   "execution_count": null,
   "id": "c344a438",
   "metadata": {},
   "outputs": [],
   "source": [
    "y_test.shape"
   ]
  },
  {
   "cell_type": "code",
   "execution_count": null,
   "id": "6de6acdf",
   "metadata": {},
   "outputs": [],
   "source": [
    "import tensorflow.keras\n",
    "from keras.models import Sequential\n",
    "from keras.layers import Dense\n",
    "from sklearn.preprocessing import MinMaxScaler\n",
    "\n",
    "model = Sequential()\n",
    "model.add(Dense(40, input_dim=5, activation='relu'))\n",
    "model.add(Dense(40, activation='relu'))\n",
    "model.add(Dense(1, activation='linear'))\n"
   ]
  },
  {
   "cell_type": "code",
   "execution_count": null,
   "id": "209f7740",
   "metadata": {},
   "outputs": [],
   "source": [
    "model.summary()"
   ]
  },
  {
   "cell_type": "code",
   "execution_count": null,
   "id": "ac98d9a0",
   "metadata": {},
   "outputs": [],
   "source": [
    "model.compile(optimizer='adam', loss='mean_squared_error')\n"
   ]
  },
  {
   "cell_type": "code",
   "execution_count": null,
   "id": "fb5730ba",
   "metadata": {},
   "outputs": [],
   "source": [
    "epochs_hist = model.fit(X_train, y_train, epochs=20, batch_size=25,  verbose=1, validation_split=0.2)\n"
   ]
  },
  {
   "cell_type": "code",
   "execution_count": null,
   "id": "0ce2c0f7",
   "metadata": {},
   "outputs": [],
   "source": [
    "#evaluating the model\n",
    "\n",
    "print(epochs_hist.history.keys())\n"
   ]
  },
  {
   "cell_type": "code",
   "execution_count": null,
   "id": "c4e2bb16",
   "metadata": {},
   "outputs": [],
   "source": [
    "plt.plot(epochs_hist.history['loss'])\n",
    "plt.plot(epochs_hist.history['val_loss'])\n",
    "\n",
    "plt.title('Model Loss Progression During Training/Validation')\n",
    "plt.ylabel('Training and Validation Losses')\n",
    "plt.xlabel('Epoch Number')\n",
    "plt.legend(['Training Loss', 'Validation Loss'])\n"
   ]
  },
  {
   "cell_type": "code",
   "execution_count": null,
   "id": "0baad7e4",
   "metadata": {},
   "outputs": [],
   "source": [
    "# Gender, Age, Annual Salary, Credit Card Debt, Net Worth\n",
    "\n",
    "X_Testing = np.array([[1, 50, 50000, 10985, 629312]])"
   ]
  },
  {
   "cell_type": "code",
   "execution_count": null,
   "id": "c4d25f5f",
   "metadata": {},
   "outputs": [],
   "source": [
    "y_predict = model.predict(X_Testing)\n",
    "y_predict.shape"
   ]
  },
  {
   "cell_type": "code",
   "execution_count": null,
   "id": "dac7d504",
   "metadata": {},
   "outputs": [],
   "source": [
    "print('Expected Purchase Amount=', y_predict[:,0])"
   ]
  }
 ],
 "metadata": {},
 "nbformat": 4,
 "nbformat_minor": 5
}
